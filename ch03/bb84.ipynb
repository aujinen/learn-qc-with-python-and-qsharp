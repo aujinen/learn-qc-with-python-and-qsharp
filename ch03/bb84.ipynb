{
 "cells": [
  {
   "cell_type": "markdown",
   "metadata": {},
   "source": [
    "### Modified for jupyter notebook and pipenv environment\n",
    "By H.Nishiyama\n",
    "2024-11-22, 18:19:22"
   ]
  },
  {
   "cell_type": "markdown",
   "metadata": {},
   "source": [
    "#### Original comment\n",
    "bb84.py: Defines and runs a simulation of the BB84 protocol for quantum key\n",
    "     distribution. Uses the single qubit simulator defined in simulator.py,\n",
    "     and the interface to the simulator defined in interface.py.\n",
    "\n",
    "Copyright (c) Sarah Kaiser and Cassandra Granade.\n",
    "Code sample from the book \"Learn Quantum Computing with Python and Q#\" by\n",
    "Sarah Kaiser and Cassandra Granade, published by Manning Publications Co.\n",
    "Book ISBN 9781617296130.\n",
    "Code licensed under the MIT License."
   ]
  },
  {
   "cell_type": "code",
   "execution_count": 1,
   "metadata": {},
   "outputs": [],
   "source": [
    "from interface import QuantumDevice, Qubit\n",
    "from simulator import SingleQubitSimulator\n",
    "from typing import List\n"
   ]
  },
  {
   "cell_type": "code",
   "execution_count": 2,
   "metadata": {},
   "outputs": [],
   "source": [
    "\n",
    "def sample_random_bit(device: QuantumDevice) -> bool:\n",
    "    with device.using_qubit() as q:\n",
    "        q.h()\n",
    "        result = q.measure()\n",
    "        q.reset()\n",
    "    return result\n",
    "\n",
    "def prepare_message_qubit(message: bool, basis: bool, q: Qubit) -> None:\n",
    "    if message:\n",
    "        q.x()\n",
    "    if basis:\n",
    "        q.h()\n",
    "\n",
    "def measure_message_qubit(basis: bool, q: Qubit) -> bool:\n",
    "    if basis:\n",
    "        q.h()\n",
    "    result = q.measure()\n",
    "    q.reset()\n",
    "    return result\n",
    "\n",
    "def convert_to_hex(bits: List[bool]) -> str:\n",
    "    return hex(int(\n",
    "        \"\".join([\"1\" if bit else \"0\" for bit in bits]),\n",
    "        2\n",
    "    ))\n",
    "\n",
    "def send_single_bit_with_bb84(\n",
    "    your_device: QuantumDevice,\n",
    "    eve_device: QuantumDevice\n",
    "    ) -> tuple:\n",
    "\n",
    "    [your_message, your_basis] = [\n",
    "        sample_random_bit(your_device) for _ in range(2)\n",
    "    ]\n",
    "\n",
    "    eve_basis = sample_random_bit(eve_device)\n",
    "\n",
    "    with your_device.using_qubit() as q:\n",
    "        prepare_message_qubit(your_message, your_basis, q)\n",
    "\n",
    "        # QUBIT SENDING...\n",
    "\n",
    "        eve_result = measure_message_qubit(eve_basis, q)\n",
    "\n",
    "    return ((your_message, your_basis), (eve_result, eve_basis))\n",
    "\n",
    "def simulate_bb84(n_bits: int) -> list:\n",
    "    your_device = SingleQubitSimulator()\n",
    "    eve_device = SingleQubitSimulator()\n",
    "\n",
    "    key = []\n",
    "    n_rounds = 0\n",
    "\n",
    "    while len(key) < n_bits:\n",
    "        n_rounds += 1\n",
    "        ((your_message, your_basis), (eve_result, eve_basis)) = \\\n",
    "            send_single_bit_with_bb84(your_device, eve_device)\n",
    "\n",
    "        if your_basis == eve_basis:\n",
    "            assert your_message == eve_result\n",
    "            key.append(your_message)\n",
    "\n",
    "    print(f\"Took {n_rounds} rounds to generate a {n_bits}-bit key.\")\n",
    "\n",
    "    return key\n",
    "\n",
    "def apply_one_time_pad(message: List[bool], key: List[bool]) -> List[bool]:\n",
    "    return [\n",
    "        message_bit ^ key_bit\n",
    "        for (message_bit, key_bit) in zip(message, key)\n",
    "    ]\n"
   ]
  },
  {
   "cell_type": "code",
   "execution_count": 3,
   "metadata": {},
   "outputs": [
    {
     "name": "stdout",
     "output_type": "stream",
     "text": [
      "Generating a 96-bit key by simulating BB84...\n",
      "Took 210 rounds to generate a 96-bit key.\n",
      "Got key                           0x41d14de7a8bf516f7763c2c3.\n",
      "Using key to send secret message: 0xd83ddc96d83ddc0dd83ddcbb.\n",
      "Encrypted message:                0x99ec917170828d62af5e1e78.\n",
      "Eve decrypted to get:             0xd83ddc96d83ddc0dd83ddcbb.\n"
     ]
    }
   ],
   "source": [
    "\n",
    "if __name__ == \"__main__\":\n",
    "    print(\"Generating a 96-bit key by simulating BB84...\")\n",
    "    key = simulate_bb84(96)\n",
    "    print(f\"Got key                           {convert_to_hex(key)}.\")\n",
    "\n",
    "    message = [\n",
    "        1, 1, 0, 1, 1, 0, 0, 0,\n",
    "        0, 0, 1, 1, 1, 1, 0, 1,\n",
    "        1, 1, 0, 1, 1, 1, 0, 0,\n",
    "        1, 0, 0, 1, 0, 1, 1, 0,\n",
    "        1, 1, 0, 1, 1, 0, 0, 0,\n",
    "        0, 0, 1, 1, 1, 1, 0, 1,\n",
    "        1, 1, 0, 1, 1, 1, 0, 0,\n",
    "        0, 0, 0, 0, 1, 1, 0, 1,\n",
    "        1, 1, 0, 1, 1, 0, 0, 0,\n",
    "        0, 0, 1, 1, 1, 1, 0, 1,\n",
    "        1, 1, 0, 1, 1, 1, 0, 0,\n",
    "        1, 0, 1, 1, 1, 0, 1, 1\n",
    "    ]\n",
    "    print(f\"Using key to send secret message: {convert_to_hex(message)}.\")\n",
    "\n",
    "    encrypted_message = apply_one_time_pad(message, key)\n",
    "    print(f\"Encrypted message:                {convert_to_hex(encrypted_message)}.\")\n",
    "\n",
    "    decrypted_message = apply_one_time_pad(encrypted_message, key)\n",
    "    print(f\"Eve decrypted to get:             {convert_to_hex(decrypted_message)}.\")\n",
    "    "
   ]
  }
 ],
 "metadata": {
  "kernelspec": {
   "display_name": ".venv",
   "language": "python",
   "name": "python3"
  },
  "language_info": {
   "codemirror_mode": {
    "name": "ipython",
    "version": 3
   },
   "file_extension": ".py",
   "mimetype": "text/x-python",
   "name": "python",
   "nbconvert_exporter": "python",
   "pygments_lexer": "ipython3",
   "version": "3.11.9"
  }
 },
 "nbformat": 4,
 "nbformat_minor": 2
}
