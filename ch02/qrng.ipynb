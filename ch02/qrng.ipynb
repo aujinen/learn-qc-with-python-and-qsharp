{
 "cells": [
  {
   "cell_type": "markdown",
   "metadata": {},
   "source": [
    "### Modified for jupyter notebook and pipenv environment\n",
    "By H.Nishiyama\n",
    "2024-11-22, 16:18:51"
   ]
  },
  {
   "cell_type": "markdown",
   "metadata": {},
   "source": [
    "#### Original comment\n",
    "qrng.py: Defines and runs a quantum random number generator (qrng) using\n",
    "  the interface defined in interface.py and the simulator in simulator.py.\n",
    "Copyright (c) Sarah Kaiser and Cassandra Granade.\n",
    "Code sample from the book \"Learn Quantum Computing with Python and Q#\" by\n",
    "Sarah Kaiser and Cassandra Granade, published by Manning Publications Co.\n",
    "Book ISBN 9781617296130.\n",
    "Code licensed under the MIT License.\n"
   ]
  },
  {
   "cell_type": "code",
   "execution_count": 2,
   "metadata": {},
   "outputs": [],
   "source": [
    "from interface import QuantumDevice\n",
    "from simulator import SingleQubitSimulator"
   ]
  },
  {
   "cell_type": "code",
   "execution_count": 3,
   "metadata": {},
   "outputs": [],
   "source": [
    "def qrng(device: QuantumDevice) -> bool:\n",
    "    with device.using_qubit() as q:\n",
    "        q.h()\n",
    "        return q.measure()"
   ]
  },
  {
   "cell_type": "code",
   "execution_count": 4,
   "metadata": {},
   "outputs": [],
   "source": [
    "qsim = SingleQubitSimulator()\n"
   ]
  },
  {
   "cell_type": "code",
   "execution_count": 6,
   "metadata": {},
   "outputs": [
    {
     "name": "stdout",
     "output_type": "stream",
     "text": [
      "Our QRNG returned False.\n",
      "Our QRNG returned True.\n",
      "Our QRNG returned True.\n",
      "Our QRNG returned False.\n",
      "Our QRNG returned True.\n",
      "Our QRNG returned False.\n",
      "Our QRNG returned True.\n",
      "Our QRNG returned True.\n",
      "Our QRNG returned True.\n",
      "Our QRNG returned True.\n"
     ]
    }
   ],
   "source": [
    "if __name__ == \"__main__\":\n",
    "    qsim = SingleQubitSimulator()\n",
    "    for idx_sample in range(10):\n",
    "        random_sample = qrng(qsim)\n",
    "        print(f\"Our QRNG returned {random_sample}.\")"
   ]
  },
  {
   "cell_type": "code",
   "execution_count": null,
   "metadata": {},
   "outputs": [],
   "source": []
  }
 ],
 "metadata": {
  "kernelspec": {
   "display_name": ".venv",
   "language": "python",
   "name": "python3"
  },
  "language_info": {
   "codemirror_mode": {
    "name": "ipython",
    "version": 3
   },
   "file_extension": ".py",
   "mimetype": "text/x-python",
   "name": "python",
   "nbconvert_exporter": "python",
   "pygments_lexer": "ipython3",
   "version": "3.11.9"
  }
 },
 "nbformat": 4,
 "nbformat_minor": 2
}
